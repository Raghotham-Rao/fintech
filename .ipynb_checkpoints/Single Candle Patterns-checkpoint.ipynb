{
 "cells": [
  {
   "cell_type": "code",
   "execution_count": 1,
   "metadata": {},
   "outputs": [],
   "source": [
    "import requests\n",
    "from bs4 import BeautifulSoup\n",
    "import pandas as pd\n",
    "import numpy as np\n",
    "import yfinance"
   ]
  },
  {
   "cell_type": "code",
   "execution_count": 2,
   "metadata": {},
   "outputs": [],
   "source": [
    "ticker = \"INFY.NS\"\n",
    "\n",
    "def get_historical_stock_price(ticker,period='1d',interval='5m'):\n",
    "    ticker = yfinance.Ticker(ticker)\n",
    "    return ticker.history(period=period,interval=interval)"
   ]
  },
  {
   "cell_type": "code",
   "execution_count": 3,
   "metadata": {},
   "outputs": [],
   "source": [
    "data = get_historical_stock_price(ticker, period = '1y', interval = '1d')"
   ]
  },
  {
   "cell_type": "code",
   "execution_count": 4,
   "metadata": {},
   "outputs": [],
   "source": [
    "data['candle_body_length'] = (data['Close'] - data['Open']).abs()\n",
    "data['candle_body_ratio'] = (data['candle_body_length'] * 100 / (data['High'] - data['Low']))\n",
    "data['candle_length'] = data['High'] - data['Low']\n",
    "data['candle_color'] = np.where(data['Open'] > data['Close'], \"Red\", \"Green\") "
   ]
  }
 ],
 "metadata": {
  "kernelspec": {
   "display_name": "Python 3",
   "language": "python",
   "name": "python3"
  },
  "language_info": {
   "codemirror_mode": {
    "name": "ipython",
    "version": 3
   },
   "file_extension": ".py",
   "mimetype": "text/x-python",
   "name": "python",
   "nbconvert_exporter": "python",
   "pygments_lexer": "ipython3",
   "version": "3.8.3"
  }
 },
 "nbformat": 4,
 "nbformat_minor": 4
}
