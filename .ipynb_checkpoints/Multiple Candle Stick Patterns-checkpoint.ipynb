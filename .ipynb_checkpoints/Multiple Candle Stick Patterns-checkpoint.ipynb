{
 "cells": [
  {
   "cell_type": "code",
   "execution_count": 1,
   "metadata": {},
   "outputs": [],
   "source": [
    "import pandas as pd\n",
    "import numpy as np\n",
    "from nsepython import equity_history\n",
    "from datetime import datetime, timedelta"
   ]
  },
  {
   "cell_type": "code",
   "execution_count": 2,
   "metadata": {},
   "outputs": [],
   "source": [
    "symbol = \"INFY\"\n",
    "\n",
    "def get_historical_stock_price(symbol, to_date = datetime.today().strftime(\"%d-%m-%Y\"), \n",
    "                                   from_date = (datetime.today() - timedelta(days = 367)).strftime(\"%d-%m-%Y\")):\n",
    "    df = equity_history(symbol, \"EQ\", from_date, to_date)\n",
    "    df = df.drop(columns = ['_id','CH_SYMBOL','CH_SERIES','CH_MARKET_TYPE', 'CH_LAST_TRADED_PRICE',\n",
    "                                    'CH_PREVIOUS_CLS_PRICE','CH_TOTAL_TRADES','TIMESTAMP','createdAt',\n",
    "                                    'updatedAt','__v','VWAP','mTIMESTAMP','CA'])\n",
    "    df.columns = ['High', 'Low', 'Open', 'Close', 'Total Traded Quantity', 'Total Traded Value', \n",
    "                  '52 week High', '52 week Close', 'ISIN', 'Date']\n",
    "    return df.set_index('Date').sort_index()"
   ]
  },
  {
   "cell_type": "code",
   "execution_count": 67,
   "metadata": {},
   "outputs": [],
   "source": [
    "data = get_historical_stock_price(symbol)\n",
    "data['candle_body_length'] = (data['Close'] - data['Open']).abs()\n",
    "data['candle_body_ratio'] = (data['candle_body_length'] * 100 / (data['High'] - data['Low']))\n",
    "data['candle_length'] = data['High'] - data['Low']\n",
    "data['candle_color'] = np.where(data['Open'] > data['Close'], \"Red\", \"Green\") \n",
    "data['body_min'], data['body_max'] = data[['Open', 'Close']].min(axis = 1), data[['Open', 'Close']].max(axis = 1)"
   ]
  },
  {
   "cell_type": "code",
   "execution_count": 77,
   "metadata": {},
   "outputs": [],
   "source": [
    "def engulfing(data):\n",
    "    data['prev_candle_body_ratio'] = data['candle_body_ratio'].shift(1)\n",
    "    data['prev_candle_color'] = data['candle_color'].shift(1)\n",
    "    data['prev_candle_body_length'] = data['candle_body_length'].shift(1)\n",
    "    data['prev_Close'] = data['Close'].shift(1)\n",
    "    data['prev_Open'] = data['Open'].shift(1)\n",
    "    data['current_prev_cbr_ratio'] = data['candle_body_length'] / data['prev_candle_body_length']\n",
    "    data['prev_current_cbr_ratio'] = data['prev_candle_body_length'] / data['candle_body_length']\n",
    "    return np.where(np.logical_and.reduce([data['prev_candle_body_ratio'] >= 15, \n",
    "                                           data['prev_candle_color'] != data['candle_color'],\n",
    "                                           data['prev_Open'].between(data['body_min'], data['body_max']), \n",
    "                                           data['prev_Close'].between(data['body_min'], data['body_max']), \n",
    "                                           data['prev_current_cbr_ratio'] < .95]),\n",
    "                          data['candle_color'].replace({\"Green\" : 'Bullish Engulfing',\n",
    "                                                       \"Red\" : 'Bearish Engulfing'}), None).tolist()\n",
    "\n",
    "def harami(data):\n",
    "    data['prev_candle_body_ratio'] = data['candle_body_ratio'].shift(1)\n",
    "    data['prev_candle_color'] = data['candle_color'].shift(1)\n",
    "    data['prev_candle_body_length'] = data['candle_body_length'].shift(1)\n",
    "    data['prev_Close'] = data['Close'].shift(1)\n",
    "    data['prev_Open'] = data['Open'].shift(1)\n",
    "    data['current_prev_cbr_ratio'] = data['candle_body_length'] / data['prev_candle_body_length']\n",
    "    data['prev_body_min'] = data['body_min'].shift(1)\n",
    "    data['prev_body_max'] = data['body_max'].shift(1)\n",
    "    \n",
    "    return np.where(np.logical_and.reduce([data['candle_body_ratio'] >= 15, \n",
    "                                           data['prev_candle_color'] != data['candle_color'],\n",
    "                                           data['Open'].between(data['prev_body_min'], data['prev_body_max']), \n",
    "                                           data['Close'].between(data['prev_body_min'], data['prev_body_max']),\n",
    "                                           data['current_prev_cbr_ratio'] < .95]),\n",
    "                                          \n",
    "                          data['candle_color'].replace({\"Green\" : 'Bullish Harami',\n",
    "                                                       \"Red\" : 'Bearish Harami'}), None).tolist()"
   ]
  },
  {
   "cell_type": "code",
   "execution_count": 78,
   "metadata": {},
   "outputs": [],
   "source": [
    "data['engulfing'] = engulfing(data)\n",
    "data['harami'] = harami(data)"
   ]
  },
  {
   "cell_type": "code",
   "execution_count": null,
   "metadata": {},
   "outputs": [],
   "source": []
  }
 ],
 "metadata": {
  "kernelspec": {
   "display_name": "Python 3",
   "language": "python",
   "name": "python3"
  },
  "language_info": {
   "codemirror_mode": {
    "name": "ipython",
    "version": 3
   },
   "file_extension": ".py",
   "mimetype": "text/x-python",
   "name": "python",
   "nbconvert_exporter": "python",
   "pygments_lexer": "ipython3",
   "version": "3.8.3"
  }
 },
 "nbformat": 4,
 "nbformat_minor": 4
}
