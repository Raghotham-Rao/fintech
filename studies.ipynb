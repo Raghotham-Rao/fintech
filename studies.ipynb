{
 "cells": [
  {
   "cell_type": "code",
   "execution_count": 1,
   "id": "561f8bf4",
   "metadata": {},
   "outputs": [],
   "source": [
    "import pandas as pd\n",
    "import numpy as np\n",
    "from nsepython import equity_history\n",
    "from datetime import datetime, timedelta"
   ]
  },
  {
   "cell_type": "code",
   "execution_count": 2,
   "id": "88f92bd3",
   "metadata": {},
   "outputs": [],
   "source": [
    "class DataLoader:\n",
    "    req_columns = ['CH_TIMESTAMP', 'CH_SYMBOL', 'CH_TRADE_HIGH_PRICE', 'CH_TRADE_LOW_PRICE', 'CH_OPENING_PRICE', 'CH_CLOSING_PRICE', 'CH_LAST_TRADED_PRICE', 'CH_PREVIOUS_CLS_PRICE', 'CH_TOT_TRADED_QTY', 'CH_52WEEK_HIGH_PRICE', 'CH_52WEEK_LOW_PRICE']\n",
    "    new_column_names = ['date', 'symbol', 'high', 'low', 'open', 'close', 'ltp', 'prev_close', 'volume', 'high_52w', 'low_52w']\n",
    "\n",
    "    @staticmethod\n",
    "    def load_data(script_name, start_date, end_date, series=\"EQ\"):\n",
    "        df = equity_history(script_name, series, start_date, end_date)[DataLoader.req_columns]\n",
    "        df.columns = DataLoader.new_column_names\n",
    "        return df"
   ]
  },
  {
   "cell_type": "code",
   "execution_count": 10,
   "id": "1f1e745d",
   "metadata": {},
   "outputs": [],
   "source": [
    "def load_volume_sma(df):\n",
    "    df['vol_sma_10d'] = df.volume.rolling(window=10).mean()\n",
    "    return df\n",
    "\n",
    "def load_emas(df):\n",
    "    ema_spans = [9, 21, 30, 50, 100, 12, 26]\n",
    "    for i in ema_spans:\n",
    "        df[f'ema_{i}d'] = df.close.ewm(span=i).mean()\n",
    "    return df\n",
    "\n",
    "def load_macd(df):\n",
    "    df['macd'] = df.ema_12d - df.ema_26d\n",
    "    df['macd_9d_signal'] = df.macd.ewm(9).mean()\n",
    "    return df\n",
    "    \n",
    "def load_bollinger_bands(df):\n",
    "    df['sma_20d'] = df.close.rolling(window=20).mean()\n",
    "    df['bb_upper'] = df.sma_20d + 2 * df.close.rolling(20).std()\n",
    "    df['bb_lower'] = df.sma_20d - 2 * df.close.rolling(20).std()\n",
    "    return df\n",
    "\n",
    "def load_rsi(df):\n",
    "    df['gain_pts'] = np.where(df[\"close\"].diff() > 0, df[\"close\"].diff(), 0)\n",
    "    df['loss_pts'] = np.where(df[\"close\"].diff() < 0, df[\"close\"].diff().abs(), 0)\n",
    "    df['gain_avg'] = df['gain_pts'].ewm(alpha=1/14, adjust=True, min_periods=14).mean()\n",
    "    df['loss_avg'] = df['loss_pts'].ewm(alpha=1/14, adjust=True, min_periods=14).mean()\n",
    "    df['rsi'] = 100 - (100 / (1 + df['gain_avg'] / df['loss_avg']))\n",
    "    return df\n",
    "\n",
    "def load_ATR(df):\n",
    "    df['true_range'] = np.maximum.reduce([\n",
    "        df['high'] - df['low'], \n",
    "        (df['high'] - df['prev_close']).abs(), \n",
    "        (df['low'] - df['prev_close']).abs()\n",
    "    ])\n",
    "    df['ATR'] = df['true_range'].ewm(alpha=1/14).mean()\n",
    "    return df\n",
    "\n",
    "def load_ADX(df):\n",
    "    df[\"plus_DM\"] = df['high'].diff(1)\n",
    "    df[\"minus_DM\"] = -df['low'].diff(1)\n",
    "    df['plus_DX'] = np.where(\n",
    "        np.logical_and(\n",
    "            df['plus_DM'] > df[\"minus_DM\"],\n",
    "            df['plus_DM'] > 0\n",
    "        ), df[\"plus_DM\"], 0)\n",
    "    df['minus_DX'] = np.where(\n",
    "        np.logical_and(\n",
    "            df['minus_DM'] > df[\"plus_DM\"],\n",
    "            df['minus_DM'] > 0\n",
    "        ), df[\"minus_DM\"], 0)\n",
    "    \n",
    "    df['smooth_DXp'] = df[\"plus_DX\"].ewm(alpha=1/14).mean()\n",
    "    df['smooth_DXm'] = df[\"minus_DX\"].ewm(alpha=1/14).mean()\n",
    "    \n",
    "    df['plus_DI'] = df[\"smooth_DXp\"] * 100 / df[\"ATR\"]\n",
    "    df['minus_DI'] = df[\"smooth_DXm\"] * 100 / df['ATR']\n",
    "    \n",
    "    df['DX'] = ((df['plus_DI'] - df['minus_DI']).abs() * 100 / (df['plus_DI'] + df['minus_DI'])).abs()\n",
    "    df['ADX'] = df['DX'].ewm(alpha=1/14).mean()\n",
    "    \n",
    "    return df\n",
    "\n",
    "def load_aroon_self(df):\n",
    "    \"\"\"group by and joins\"\"\"\n",
    "    df[\"low_25d\"] = df[\"low\"].rolling(window=25, min_periods=25).min()\n",
    "    df[\"high_25d\"] = df[\"high\"].rolling(window=25, min_periods=25).max()\n",
    "    df[\"row_number\"] = df.reset_index().index\n",
    "    \n",
    "    min_dates = df.reset_index().groupby(\"low_25d\").agg({\"row_number\": \"min\"})\n",
    "    max_dates = df.reset_index().groupby(\"high_25d\").agg({\"row_number\": \"min\"})\n",
    "    \n",
    "    df = df.reset_index().join(min_dates, on=\"low_25d\", rsuffix=\"_low_25d\").join(max_dates, on=\"high_25d\", rsuffix=\"_high_25d\")\n",
    "    \n",
    "    df[\"days_since_25d_high\"] = df[\"row_number\"] - df[\"row_number_high_25d\"]\n",
    "    df[\"days_since_25d_low\"] = df[\"row_number\"] - df[\"row_number_low_25d\"]\n",
    "    \n",
    "    df[\"aroon_up\"] = (25 - df[\"days_since_25d_high\"]) * 100 / 25\n",
    "    df[\"aroon_down\"] = (25 - df[\"days_since_25d_low\"]) * 100 / 25\n",
    "    \n",
    "    return df\n",
    "\n",
    "def load_aroon(df, period):\n",
    "    \"\"\"using argmax\"\"\"\n",
    "    df[\"period\"] = period\n",
    "    df[\"days_since_period_high\"] = df[\"high\"].rolling(window=period).apply(lambda x: period - np.argmax(x) - 1)\n",
    "    df[\"days_since_period_low\"] = df[\"low\"].rolling(window=period).apply(lambda x: period - np.argmin(x) - 1)\n",
    "    \n",
    "    df[\"aroon_up\"] = (period - df[\"days_since_period_high\"]) * 100 / period\n",
    "    df[\"aroon_down\"] = (period - df[\"days_since_period_low\"]) * 100 / period\n",
    "    \n",
    "    return df"
   ]
  },
  {
   "cell_type": "code",
   "execution_count": 4,
   "id": "0d3e57f0",
   "metadata": {},
   "outputs": [],
   "source": [
    "script_name = 'infy'\n",
    "series = 'EQ'\n",
    "end_date = datetime.now().date()\n",
    "start_date = end_date - timedelta(days = 366)"
   ]
  },
  {
   "cell_type": "code",
   "execution_count": 5,
   "id": "4dd7c5af",
   "metadata": {},
   "outputs": [],
   "source": [
    "df = DataLoader.load_data(\n",
    "    script_name, \n",
    "    start_date.strftime(\"%d-%m-%Y\"), \n",
    "    end_date.strftime(\"%d-%m-%Y\"), \n",
    "    series).sort_values('date').drop_duplicates()\n",
    "df = df.set_index(\"date\")"
   ]
  },
  {
   "cell_type": "code",
   "execution_count": 11,
   "id": "4dbbd44e",
   "metadata": {},
   "outputs": [],
   "source": [
    "for fn in [load_volume_sma, load_emas, load_macd, load_bollinger_bands, load_rsi, load_ATR, load_ADX]:\n",
    "    df = fn(df)\n",
    "    \n",
    "df = load_aroon(df, period=14)"
   ]
  },
  {
   "cell_type": "code",
   "execution_count": null,
   "id": "136ee9e9",
   "metadata": {},
   "outputs": [],
   "source": [
    "df"
   ]
  },
  {
   "cell_type": "code",
   "execution_count": null,
   "id": "0fc7e589",
   "metadata": {},
   "outputs": [],
   "source": []
  }
 ],
 "metadata": {
  "kernelspec": {
   "display_name": "Python 3",
   "language": "python",
   "name": "python3"
  },
  "language_info": {
   "codemirror_mode": {
    "name": "ipython",
    "version": 3
   },
   "file_extension": ".py",
   "mimetype": "text/x-python",
   "name": "python",
   "nbconvert_exporter": "python",
   "pygments_lexer": "ipython3",
   "version": "3.8.10"
  }
 },
 "nbformat": 4,
 "nbformat_minor": 5
}
