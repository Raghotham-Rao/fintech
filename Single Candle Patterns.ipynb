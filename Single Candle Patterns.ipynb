{
 "cells": [
  {
   "cell_type": "code",
   "execution_count": 1,
   "metadata": {},
   "outputs": [],
   "source": [
    "import pandas as pd\n",
    "import numpy as np\n",
    "from nsepython import equity_history\n",
    "from datetime import datetime, timedelta"
   ]
  },
  {
   "cell_type": "code",
   "execution_count": 52,
   "metadata": {},
   "outputs": [],
   "source": [
    "symbol = \"INFY\"\n",
    "\n",
    "def get_historical_stock_price(symbol, to_date = datetime.today().strftime(\"%d-%m-%Y\"), \n",
    "                                   from_date = (datetime.today() - timedelta(days = 367)).strftime(\"%d-%m-%Y\")):\n",
    "    df = equity_history(symbol, \"EQ\", from_date, to_date)\n",
    "    df = df.drop(columns = ['_id','CH_SYMBOL','CH_SERIES','CH_MARKET_TYPE', 'CH_LAST_TRADED_PRICE',\n",
    "                                    'CH_PREVIOUS_CLS_PRICE','CH_TOTAL_TRADES','TIMESTAMP','createdAt',\n",
    "                                    'updatedAt','__v','VWAP','mTIMESTAMP','CA'])\n",
    "    df.columns = ['High', 'Low', 'Open', 'Close', 'Total Traded Quantity', 'Total Traded Value', \n",
    "                  '52 week High', '52 week Close', 'ISIN', 'Date']\n",
    "    return df.set_index('Date').sort_index()"
   ]
  },
  {
   "cell_type": "code",
   "execution_count": 65,
   "metadata": {},
   "outputs": [],
   "source": [
    "data = get_historical_stock_price(symbol)"
   ]
  },
  {
   "cell_type": "code",
   "execution_count": 66,
   "metadata": {},
   "outputs": [],
   "source": [
    "data['candle_body_length'] = (data['Close'] - data['Open']).abs()\n",
    "data['candle_length'] = data['High'] - data['Low']\n",
    "data['candle_body_ratio'] = (data['candle_body_length'] * 100 / data['candle_length'])\n",
    "data['day_change_perc'] = data['candle_body_length'] * 100 / data['Close'].shift(1)\n",
    "data['candle_color'] = np.where(data['Open'] > data['Close'], \"Red\", np.where(data['Open'] != data['Close'], \"Green\", \"\")) \n",
    "data['upper_wick_length'] = data['High'] - data[['Close','Open']].max(axis = 1)\n",
    "data['lower_wick_length'] = data[['Close','Open']].min(axis = 1) - data['Low']"
   ]
  },
  {
   "cell_type": "code",
   "execution_count": 89,
   "metadata": {},
   "outputs": [],
   "source": [
    "def marubozu(data):\n",
    "    return pd.Series(np.where(np.logical_and(data['candle_body_ratio'] > 87.5, data['day_change_perc'] > 1.25), \n",
    "                                      data['candle_color'], \"\")).replace({'Red' : 'Bearish', 'Green' : 'Bullish'}).tolist()\n",
    "\n",
    "def spinning_top_doji(data):\n",
    "    wick_conditions = np.logical_and((data['upper_wick_length'] / \n",
    "                                      data['candle_length']).between(.25, .75), \n",
    "                                     (data['lower_wick_length'] / data['candle_length']).between(.25, .75)\n",
    "                                )\n",
    "    body_condition = np.where(data['candle_body_ratio'] <= 17.5, \"Doji\", \n",
    "                              np.where(data['candle_body_ratio'] <= 32.5, \"Spinning Top\", None)\n",
    "                            )\n",
    "    return np.where(np.logical_and(body_condition, wick_conditions), body_condition, \"\").tolist()\n",
    "\n",
    "def paper_umbrella(data):\n",
    "    return np.where(np.logical_and.reduce([(data['candle_body_ratio'] <= 37.5),\n",
    "                                          (data['lower_wick_length'] / data['candle_length'] >= .60),\n",
    "                                          (data['upper_wick_length'] / data['candle_length'] <= .125)]\n",
    "                                         ), True, False).tolist()\n",
    "\n",
    "def shooting_star(data):\n",
    "    return np.where(np.logical_and.reduce([(data['candle_body_ratio'] <= 37.5),\n",
    "                                          (data['upper_wick_length'] / data['candle_length'] >= .60),\n",
    "                                          (data['lower_wick_length'] / data['candle_length'] <= .125)]\n",
    "                                         ), True, False).tolist()"
   ]
  },
  {
   "cell_type": "code",
   "execution_count": 90,
   "metadata": {},
   "outputs": [],
   "source": [
    "data['marubozu'] = marubozu(data)\n",
    "data['spinning_top'] = spinning_top_doji(data)\n",
    "data['paper_umbrella'] = paper_umbrella(data)\n",
    "data['shooting_star'] = shooting_star(data)"
   ]
  },
  {
   "cell_type": "code",
   "execution_count": null,
   "metadata": {},
   "outputs": [],
   "source": []
  }
 ],
 "metadata": {
  "kernelspec": {
   "display_name": "Python 3",
   "language": "python",
   "name": "python3"
  },
  "language_info": {
   "codemirror_mode": {
    "name": "ipython",
    "version": 3
   },
   "file_extension": ".py",
   "mimetype": "text/x-python",
   "name": "python",
   "nbconvert_exporter": "python",
   "pygments_lexer": "ipython3",
   "version": "3.8.3"
  }
 },
 "nbformat": 4,
 "nbformat_minor": 4
}
