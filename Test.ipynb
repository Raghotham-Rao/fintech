{
 "cells": [
  {
   "cell_type": "code",
   "execution_count": 84,
   "metadata": {},
   "outputs": [],
   "source": [
    "import pandas as pd\n",
    "import numpy as np\n",
    "from nsepython import equity_history\n",
    "from datetime import datetime, timedelta"
   ]
  },
  {
   "cell_type": "code",
   "execution_count": 85,
   "metadata": {},
   "outputs": [],
   "source": [
    "symbol = \"INFY\"\n",
    "\n",
    "def get_historical_stock_price(symbol, to_date = datetime.today().strftime(\"%d-%m-%Y\"), \n",
    "                                   from_date = (datetime.today() - timedelta(days = 367)).strftime(\"%d-%m-%Y\")):\n",
    "    df = equity_history(symbol, \"EQ\", from_date, to_date)\n",
    "    df = df.drop(columns = ['_id','CH_SYMBOL','CH_SERIES','CH_MARKET_TYPE', 'CH_LAST_TRADED_PRICE',\n",
    "                                    'CH_PREVIOUS_CLS_PRICE','CH_TOTAL_TRADES','TIMESTAMP','createdAt',\n",
    "                                    'updatedAt','__v','VWAP','mTIMESTAMP','CA'])\n",
    "    df.columns = ['high', 'low', 'open', 'close', 'volume', 'total_traded_value', \n",
    "                  'high_52_week', 'low_52_week', 'ISIN', 'date']\n",
    "    return df.set_index('date').sort_index()"
   ]
  },
  {
   "cell_type": "code",
   "execution_count": 86,
   "metadata": {},
   "outputs": [],
   "source": [
    "df = get_historical_stock_price(symbol)\n",
    "df['volume_sma_10D'] = df['volume'] > df['volume'].rolling(10).mean()"
   ]
  },
  {
   "cell_type": "code",
   "execution_count": 87,
   "metadata": {},
   "outputs": [],
   "source": [
    "def avg_crossovers(fast_series, slow_series):\n",
    "    max_column = pd.concat([fast_series, slow_series], axis = 1).idxmax(axis = 1)\n",
    "    return np.where(np.logical_and(max_column.notnull(), max_column != max_column.shift(1)), \n",
    "                        np.where(fast_series.name == max_column, \"Buy\", \"Sell\"), \"\")"
   ]
  },
  {
   "cell_type": "code",
   "execution_count": 88,
   "metadata": {},
   "outputs": [],
   "source": [
    "ema_days = [9, 12, 21, 25, 26, 50, 100]\n",
    "for i in ema_days:\n",
    "    df[f'close_ema_{i}D'] = df['close'].ewm(span = i, min_periods = i).mean()"
   ]
  },
  {
   "cell_type": "code",
   "execution_count": 89,
   "metadata": {},
   "outputs": [],
   "source": [
    "df['MACD'] = df['close_ema_12D'] - df['close_ema_26D']\n",
    "df['MACD_signal_line'] = df['MACD'].ewm(span = 9, min_periods = 9).mean()\n",
    "df['MACD_indicator'] = avg_crossovers(df['MACD'], df['MACD_signal_line'])\n",
    "df['close_ema_crossover_9_21'] = avg_crossovers(df['close_ema_9D'], df['close_ema_21D'])\n",
    "df['close_ema_crossover_25_50'] = avg_crossovers(df['close_ema_25D'], df['close_ema_50D'])\n",
    "df['close_ema_crossover_50_100'] = avg_crossovers(df['close_ema_50D'], df['close_ema_100D'])"
   ]
  },
  {
   "cell_type": "code",
   "execution_count": 105,
   "metadata": {},
   "outputs": [],
   "source": [
    "def rsi_indicator(close_price, period = 14):\n",
    "    close_price_diff = close_price.diff(1)\n",
    "    avg_gain = close_price_diff.where(close_price_diff > 0, 0).ewm(alpha = 1 / period, min_periods = period, adjust = False).mean()\n",
    "    avg_loss = - close_price_diff.where(close_price_diff < 0, 0).ewm(alpha = 1 / period,min_periods = period, adjust = False).mean()\n",
    "    RSI = 100 - (100/(1 + avg_gain / avg_loss))\n",
    "    return RSI"
   ]
  },
  {
   "cell_type": "code",
   "execution_count": 106,
   "metadata": {},
   "outputs": [
    {
     "data": {
      "text/plain": [
       "date\n",
       "2021-09-13          NaN\n",
       "2021-09-14          NaN\n",
       "2021-09-15          NaN\n",
       "2021-09-16          NaN\n",
       "2021-09-17          NaN\n",
       "                ...    \n",
       "2022-09-07    37.748399\n",
       "2022-09-08    42.619623\n",
       "2022-09-09    50.749696\n",
       "2022-09-12    55.420837\n",
       "2022-09-13    56.986715\n",
       "Name: close, Length: 257, dtype: float64"
      ]
     },
     "execution_count": 106,
     "metadata": {},
     "output_type": "execute_result"
    }
   ],
   "source": [
    "rsi_indicator(df['close'])"
   ]
  },
  {
   "cell_type": "code",
   "execution_count": null,
   "metadata": {},
   "outputs": [],
   "source": []
  }
 ],
 "metadata": {
  "kernelspec": {
   "display_name": "Python 3",
   "language": "python",
   "name": "python3"
  },
  "language_info": {
   "codemirror_mode": {
    "name": "ipython",
    "version": 3
   },
   "file_extension": ".py",
   "mimetype": "text/x-python",
   "name": "python",
   "nbconvert_exporter": "python",
   "pygments_lexer": "ipython3",
   "version": "3.8.3"
  }
 },
 "nbformat": 4,
 "nbformat_minor": 4
}
