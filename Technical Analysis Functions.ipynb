{
 "cells": [
  {
   "cell_type": "code",
   "execution_count": 5,
   "metadata": {},
   "outputs": [],
   "source": [
    "import pandas as pd\n",
    "import numpy as np\n",
    "from nsepython import equity_history\n",
    "from datetime import datetime, timedelta"
   ]
  },
  {
   "cell_type": "code",
   "execution_count": 6,
   "metadata": {},
   "outputs": [],
   "source": [
    "symbol = \"INFY\"\n",
    "\n",
    "def get_historical_stock_price(symbol, to_date = datetime.today().strftime(\"%d-%m-%Y\"), \n",
    "                                   from_date = (datetime.today() - timedelta(days = 367)).strftime(\"%d-%m-%Y\")):\n",
    "    df = equity_history(symbol, \"EQ\", from_date, to_date)\n",
    "    df = df.drop(columns = ['_id','CH_SYMBOL','CH_SERIES','CH_MARKET_TYPE', 'CH_LAST_TRADED_PRICE',\n",
    "                                    'CH_PREVIOUS_CLS_PRICE','CH_TOTAL_TRADES','TIMESTAMP','createdAt',\n",
    "                                    'updatedAt','__v','VWAP','mTIMESTAMP','CA'])\n",
    "    df.columns = ['High', 'Low', 'Open', 'Close', 'Total Traded Quantity', 'Total Traded Value', \n",
    "                  '52 week High', '52 week Close', 'ISIN', 'Date']\n",
    "    return df.set_index('Date')"
   ]
  },
  {
   "cell_type": "code",
   "execution_count": 7,
   "metadata": {},
   "outputs": [],
   "source": [
    "def engulfing(data, x_days = 1):\n",
    "    results = []\n",
    "    data['prev_candle_body_ratio'] = data['candle_body_ratio'].shift(1)\n",
    "    data['prev_candle_color'] = data['candle_color'].shift(1)\n",
    "    data['prev_candle_body_length'] = data['candle_body_length'].shift(1)\n",
    "    data['prev_Close'] = data['Close'].shift(1)\n",
    "    data['prev_Open'] = data['Open'].shift(1)\n",
    "    data['prev_current_body_ratio'] = data['prev_candle_body_length'] / data['candle_body_length']\n",
    "    return np.where(np.logical_and.reduce([data['prev_candle_body_ratio'] >= 15, data['prev_candle_color'] == \"Red\", data['candle_color'] == \"Green\", data['Close'] > data['prev_Open'], data['Open'] < data['prev_Close'], data['prev_current_body_ratio'] < .9]), \"Bullish Engulfing\", \n",
    "                   np.where(np.logical_and.reduce([data['prev_candle_body_ratio'] >= 15, data['prev_candle_color'] == \"Green\", data['candle_color'] == \"Red\", data['Open'] > data['prev_Close'], data['Close'] < data['prev_Open'], data['prev_current_body_ratio'] < .9]), \"Bearish Engulfing\", \"\"))"
   ]
  },
  {
   "cell_type": "code",
   "execution_count": 9,
   "metadata": {},
   "outputs": [],
   "source": [
    "data = get_historical_stock_price(symbol)"
   ]
  },
  {
   "cell_type": "code",
   "execution_count": 10,
   "metadata": {},
   "outputs": [],
   "source": [
    "data['candle_body_length'] = (data['Close'] - data['Open']).abs()\n",
    "data['candle_body_ratio'] = (data['candle_body_length'] * 100 / (data['High'] - data['Low']))\n",
    "data['candle_length'] = data['High'] - data['Low']\n",
    "data['candle_color'] = np.where(data['Open'] > data['Close'], \"Red\", \"Green\") "
   ]
  },
  {
   "cell_type": "code",
   "execution_count": 11,
   "metadata": {},
   "outputs": [],
   "source": [
    "data['engulf?'] = engulfing(data)"
   ]
  }
 ],
 "metadata": {
  "kernelspec": {
   "display_name": "Python 3",
   "language": "python",
   "name": "python3"
  },
  "language_info": {
   "codemirror_mode": {
    "name": "ipython",
    "version": 3
   },
   "file_extension": ".py",
   "mimetype": "text/x-python",
   "name": "python",
   "nbconvert_exporter": "python",
   "pygments_lexer": "ipython3",
   "version": "3.8.3"
  }
 },
 "nbformat": 4,
 "nbformat_minor": 4
}
